{
 "cells": [
  {
   "cell_type": "code",
   "execution_count": 7,
   "id": "7c606a92",
   "metadata": {},
   "outputs": [],
   "source": [
    "import pandas as pd\n",
    "from sklearn.model_selection import train_test_split\n",
    "from sklearn.preprocessing import StandardScaler\n",
    "from sklearn.linear_model import LogisticRegression\n",
    "from sklearn.tree import DecisionTreeClassifier\n",
    "from sklearn.ensemble import RandomForestClassifier\n",
    "from sklearn.metrics import confusion_matrix\n",
    "from sklearn.cluster import KMeans\n",
    "import seaborn as sns\n",
    "from matplotlib import pyplot as plt"
   ]
  },
  {
   "cell_type": "code",
   "execution_count": 2,
   "id": "cfadd49e",
   "metadata": {},
   "outputs": [],
   "source": [
    "df = pd.read_csv('/Users/pafumat/Downloads/AZWatch_subscribers.csv')"
   ]
  },
  {
   "cell_type": "code",
   "execution_count": 6,
   "id": "fc065542",
   "metadata": {},
   "outputs": [
    {
     "data": {
      "text/html": [
       "<div>\n",
       "<style scoped>\n",
       "    .dataframe tbody tr th:only-of-type {\n",
       "        vertical-align: middle;\n",
       "    }\n",
       "\n",
       "    .dataframe tbody tr th {\n",
       "        vertical-align: top;\n",
       "    }\n",
       "\n",
       "    .dataframe thead th {\n",
       "        text-align: right;\n",
       "    }\n",
       "</style>\n",
       "<table border=\"1\" class=\"dataframe\">\n",
       "  <thead>\n",
       "    <tr style=\"text-align: right;\">\n",
       "      <th></th>\n",
       "      <th>subscriber_id</th>\n",
       "      <th>age_group</th>\n",
       "      <th>engagement_time</th>\n",
       "      <th>engagement_frequency</th>\n",
       "      <th>subscription_status</th>\n",
       "    </tr>\n",
       "  </thead>\n",
       "  <tbody>\n",
       "    <tr>\n",
       "      <th>0</th>\n",
       "      <td>14451</td>\n",
       "      <td>18-34</td>\n",
       "      <td>5.55</td>\n",
       "      <td>7</td>\n",
       "      <td>subscribed</td>\n",
       "    </tr>\n",
       "    <tr>\n",
       "      <th>1</th>\n",
       "      <td>18386</td>\n",
       "      <td>under 18</td>\n",
       "      <td>5.12</td>\n",
       "      <td>12</td>\n",
       "      <td>subscribed</td>\n",
       "    </tr>\n",
       "    <tr>\n",
       "      <th>2</th>\n",
       "      <td>12305</td>\n",
       "      <td>35 and over</td>\n",
       "      <td>4.25</td>\n",
       "      <td>4</td>\n",
       "      <td>churned</td>\n",
       "    </tr>\n",
       "    <tr>\n",
       "      <th>3</th>\n",
       "      <td>17546</td>\n",
       "      <td>18-34</td>\n",
       "      <td>8.54</td>\n",
       "      <td>15</td>\n",
       "      <td>subscribed</td>\n",
       "    </tr>\n",
       "    <tr>\n",
       "      <th>4</th>\n",
       "      <td>15399</td>\n",
       "      <td>18-34</td>\n",
       "      <td>12.12</td>\n",
       "      <td>20</td>\n",
       "      <td>subscribed</td>\n",
       "    </tr>\n",
       "  </tbody>\n",
       "</table>\n",
       "</div>"
      ],
      "text/plain": [
       "   subscriber_id    age_group  engagement_time  engagement_frequency  \\\n",
       "0          14451        18-34             5.55                     7   \n",
       "1          18386     under 18             5.12                    12   \n",
       "2          12305  35 and over             4.25                     4   \n",
       "3          17546        18-34             8.54                    15   \n",
       "4          15399        18-34            12.12                    20   \n",
       "\n",
       "  subscription_status  \n",
       "0          subscribed  \n",
       "1          subscribed  \n",
       "2             churned  \n",
       "3          subscribed  \n",
       "4          subscribed  "
      ]
     },
     "execution_count": 6,
     "metadata": {},
     "output_type": "execute_result"
    }
   ],
   "source": [
    "df.head()"
   ]
  },
  {
   "cell_type": "code",
   "execution_count": 9,
   "id": "c1e9a070",
   "metadata": {},
   "outputs": [
    {
     "data": {
      "text/html": [
       "<div>\n",
       "<style scoped>\n",
       "    .dataframe tbody tr th:only-of-type {\n",
       "        vertical-align: middle;\n",
       "    }\n",
       "\n",
       "    .dataframe tbody tr th {\n",
       "        vertical-align: top;\n",
       "    }\n",
       "\n",
       "    .dataframe thead th {\n",
       "        text-align: right;\n",
       "    }\n",
       "</style>\n",
       "<table border=\"1\" class=\"dataframe\">\n",
       "  <thead>\n",
       "    <tr style=\"text-align: right;\">\n",
       "      <th></th>\n",
       "      <th>subscriber_id</th>\n",
       "      <th>engagement_time</th>\n",
       "      <th>engagement_frequency</th>\n",
       "    </tr>\n",
       "  </thead>\n",
       "  <tbody>\n",
       "    <tr>\n",
       "      <th>count</th>\n",
       "      <td>1000.000000</td>\n",
       "      <td>1000.000000</td>\n",
       "      <td>1000.000000</td>\n",
       "    </tr>\n",
       "    <tr>\n",
       "      <th>mean</th>\n",
       "      <td>15024.803000</td>\n",
       "      <td>6.180030</td>\n",
       "      <td>9.978000</td>\n",
       "    </tr>\n",
       "    <tr>\n",
       "      <th>std</th>\n",
       "      <td>2927.044957</td>\n",
       "      <td>2.757166</td>\n",
       "      <td>6.236859</td>\n",
       "    </tr>\n",
       "    <tr>\n",
       "      <th>min</th>\n",
       "      <td>10000.000000</td>\n",
       "      <td>0.220000</td>\n",
       "      <td>0.000000</td>\n",
       "    </tr>\n",
       "    <tr>\n",
       "      <th>25%</th>\n",
       "      <td>12452.500000</td>\n",
       "      <td>3.917500</td>\n",
       "      <td>5.000000</td>\n",
       "    </tr>\n",
       "    <tr>\n",
       "      <th>50%</th>\n",
       "      <td>15184.000000</td>\n",
       "      <td>6.000000</td>\n",
       "      <td>8.000000</td>\n",
       "    </tr>\n",
       "    <tr>\n",
       "      <th>75%</th>\n",
       "      <td>17481.250000</td>\n",
       "      <td>8.110000</td>\n",
       "      <td>15.000000</td>\n",
       "    </tr>\n",
       "    <tr>\n",
       "      <th>max</th>\n",
       "      <td>19976.000000</td>\n",
       "      <td>16.980000</td>\n",
       "      <td>45.000000</td>\n",
       "    </tr>\n",
       "  </tbody>\n",
       "</table>\n",
       "</div>"
      ],
      "text/plain": [
       "       subscriber_id  engagement_time  engagement_frequency\n",
       "count    1000.000000      1000.000000           1000.000000\n",
       "mean    15024.803000         6.180030              9.978000\n",
       "std      2927.044957         2.757166              6.236859\n",
       "min     10000.000000         0.220000              0.000000\n",
       "25%     12452.500000         3.917500              5.000000\n",
       "50%     15184.000000         6.000000              8.000000\n",
       "75%     17481.250000         8.110000             15.000000\n",
       "max     19976.000000        16.980000             45.000000"
      ]
     },
     "execution_count": 9,
     "metadata": {},
     "output_type": "execute_result"
    }
   ],
   "source": [
    "df.describe()"
   ]
  },
  {
   "cell_type": "code",
   "execution_count": 11,
   "id": "b6ab5864",
   "metadata": {},
   "outputs": [
    {
     "name": "stdout",
     "output_type": "stream",
     "text": [
      "<class 'pandas.core.frame.DataFrame'>\n",
      "RangeIndex: 1000 entries, 0 to 999\n",
      "Data columns (total 5 columns):\n",
      " #   Column                Non-Null Count  Dtype  \n",
      "---  ------                --------------  -----  \n",
      " 0   subscriber_id         1000 non-null   int64  \n",
      " 1   age_group             1000 non-null   object \n",
      " 2   engagement_time       1000 non-null   float64\n",
      " 3   engagement_frequency  1000 non-null   int64  \n",
      " 4   subscription_status   1000 non-null   object \n",
      "dtypes: float64(1), int64(2), object(2)\n",
      "memory usage: 39.2+ KB\n"
     ]
    }
   ],
   "source": [
    "df.info()"
   ]
  },
  {
   "cell_type": "code",
   "execution_count": null,
   "id": "363f038e",
   "metadata": {},
   "outputs": [],
   "source": []
  }
 ],
 "metadata": {
  "kernelspec": {
   "display_name": "base",
   "language": "python",
   "name": "python3"
  },
  "language_info": {
   "codemirror_mode": {
    "name": "ipython",
    "version": 3
   },
   "file_extension": ".py",
   "mimetype": "text/x-python",
   "name": "python",
   "nbconvert_exporter": "python",
   "pygments_lexer": "ipython3",
   "version": "3.12.7"
  }
 },
 "nbformat": 4,
 "nbformat_minor": 5
}
