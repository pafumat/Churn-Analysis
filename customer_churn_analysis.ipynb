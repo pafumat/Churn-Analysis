{
 "cells": [
  {
   "cell_type": "markdown",
   "source": "# 📊 Customer Churn Analysis for AZWatch Subscribers\n\n## Predicting Subscription Churn using Machine Learning\n\n**Author:** Pierre-Alexandre Fumat  \n**Date:** June 2025  \n**Objective:** Analyze customer subscription patterns and build predictive models to identify customers at risk of churning\n\n### Project Overview\nThis notebook analyzes AZWatch subscriber data to predict customer churn using various machine learning algorithms. We'll explore customer engagement patterns, build predictive models, and compare their performance to identify the best approach for churn prediction.\n\n### Dataset\n- **Size:** 1,000 customer records\n- **Features:** Age group, engagement time, engagement frequency\n- **Target:** Subscription status (subscribed/churned)\n- **Churn Rate:** ~45%\n\n---",
   "metadata": {}
  },
  {
   "cell_type": "markdown",
   "source": "## 1. 📚 Library Imports and Setup",
   "metadata": {}
  },
  {
   "cell_type": "code",
   "execution_count": 47,
   "id": "7c606a92",
   "metadata": {},
   "outputs": [],
   "source": [
    "import pandas as pd\n",
    "from sklearn.model_selection import train_test_split\n",
    "from sklearn.preprocessing import StandardScaler\n",
    "from sklearn.preprocessing import OneHotEncoder\n",
    "from sklearn.impute import SimpleImputer\n",
    "from sklearn.feature_selection import SelectKBest, f_classif\n",
    "from sklearn.linear_model import LogisticRegression\n",
    "from sklearn.tree import DecisionTreeClassifier\n",
    "from sklearn.ensemble import RandomForestClassifier\n",
    "from sklearn.metrics import roc_curve, auc\n",
    "from sklearn.metrics import classification_report, confusion_matrix, roc_auc_score\n",
    "from sklearn.svm import SVC\n",
    "from sklearn.neighbors import KNeighborsClassifier\n",
    "from sklearn.cluster import KMeans\n",
    "import seaborn as sns\n",
    "from matplotlib import pyplot as plt\n",
    "from sklearn.compose import ColumnTransformer\n",
    "from sklearn.pipeline import Pipeline\n"
   ]
  },
  {
   "cell_type": "markdown",
   "source": "## 2. 📊 Data Loading and Exploration",
   "metadata": {}
  },
  {
   "cell_type": "code",
   "id": "cfadd49e",
   "metadata": {},
   "outputs": [],
   "source": "# Load the dataset\ndf = pd.read_csv('AZWatch_subscribers.csv')\nprint(f\"✅ Dataset loaded successfully!\")\nprint(f\"📊 Shape: {df.shape[0]} rows, {df.shape[1]} columns\")"
  },
  {
   "cell_type": "markdown",
   "source": "### 2.1 Dataset Overview",
   "metadata": {}
  },
  {
   "cell_type": "code",
   "execution_count": 49,
   "id": "fc065542",
   "metadata": {},
   "outputs": [
    {
     "data": {
      "text/html": [
       "<div>\n",
       "<style scoped>\n",
       "    .dataframe tbody tr th:only-of-type {\n",
       "        vertical-align: middle;\n",
       "    }\n",
       "\n",
       "    .dataframe tbody tr th {\n",
       "        vertical-align: top;\n",
       "    }\n",
       "\n",
       "    .dataframe thead th {\n",
       "        text-align: right;\n",
       "    }\n",
       "</style>\n",
       "<table border=\"1\" class=\"dataframe\">\n",
       "  <thead>\n",
       "    <tr style=\"text-align: right;\">\n",
       "      <th></th>\n",
       "      <th>subscriber_id</th>\n",
       "      <th>age_group</th>\n",
       "      <th>engagement_time</th>\n",
       "      <th>engagement_frequency</th>\n",
       "      <th>subscription_status</th>\n",
       "    </tr>\n",
       "  </thead>\n",
       "  <tbody>\n",
       "    <tr>\n",
       "      <th>0</th>\n",
       "      <td>14451</td>\n",
       "      <td>18-34</td>\n",
       "      <td>5.55</td>\n",
       "      <td>7</td>\n",
       "      <td>subscribed</td>\n",
       "    </tr>\n",
       "    <tr>\n",
       "      <th>1</th>\n",
       "      <td>18386</td>\n",
       "      <td>under 18</td>\n",
       "      <td>5.12</td>\n",
       "      <td>12</td>\n",
       "      <td>subscribed</td>\n",
       "    </tr>\n",
       "    <tr>\n",
       "      <th>2</th>\n",
       "      <td>12305</td>\n",
       "      <td>35 and over</td>\n",
       "      <td>4.25</td>\n",
       "      <td>4</td>\n",
       "      <td>churned</td>\n",
       "    </tr>\n",
       "    <tr>\n",
       "      <th>3</th>\n",
       "      <td>17546</td>\n",
       "      <td>18-34</td>\n",
       "      <td>8.54</td>\n",
       "      <td>15</td>\n",
       "      <td>subscribed</td>\n",
       "    </tr>\n",
       "    <tr>\n",
       "      <th>4</th>\n",
       "      <td>15399</td>\n",
       "      <td>18-34</td>\n",
       "      <td>12.12</td>\n",
       "      <td>20</td>\n",
       "      <td>subscribed</td>\n",
       "    </tr>\n",
       "  </tbody>\n",
       "</table>\n",
       "</div>"
      ],
      "text/plain": [
       "   subscriber_id    age_group  engagement_time  engagement_frequency  \\\n",
       "0          14451        18-34             5.55                     7   \n",
       "1          18386     under 18             5.12                    12   \n",
       "2          12305  35 and over             4.25                     4   \n",
       "3          17546        18-34             8.54                    15   \n",
       "4          15399        18-34            12.12                    20   \n",
       "\n",
       "  subscription_status  \n",
       "0          subscribed  \n",
       "1          subscribed  \n",
       "2             churned  \n",
       "3          subscribed  \n",
       "4          subscribed  "
      ]
     },
     "execution_count": 49,
     "metadata": {},
     "output_type": "execute_result"
    }
   ],
   "source": [
    "df.head()"
   ]
  },
  {
   "cell_type": "markdown",
   "source": "### 2.2 Statistical Summary",
   "metadata": {}
  },
  {
   "cell_type": "code",
   "execution_count": 50,
   "id": "c1e9a070",
   "metadata": {},
   "outputs": [
    {
     "data": {
      "text/html": [
       "<div>\n",
       "<style scoped>\n",
       "    .dataframe tbody tr th:only-of-type {\n",
       "        vertical-align: middle;\n",
       "    }\n",
       "\n",
       "    .dataframe tbody tr th {\n",
       "        vertical-align: top;\n",
       "    }\n",
       "\n",
       "    .dataframe thead th {\n",
       "        text-align: right;\n",
       "    }\n",
       "</style>\n",
       "<table border=\"1\" class=\"dataframe\">\n",
       "  <thead>\n",
       "    <tr style=\"text-align: right;\">\n",
       "      <th></th>\n",
       "      <th>subscriber_id</th>\n",
       "      <th>engagement_time</th>\n",
       "      <th>engagement_frequency</th>\n",
       "    </tr>\n",
       "  </thead>\n",
       "  <tbody>\n",
       "    <tr>\n",
       "      <th>count</th>\n",
       "      <td>1000.000000</td>\n",
       "      <td>1000.000000</td>\n",
       "      <td>1000.000000</td>\n",
       "    </tr>\n",
       "    <tr>\n",
       "      <th>mean</th>\n",
       "      <td>15024.803000</td>\n",
       "      <td>6.180030</td>\n",
       "      <td>9.978000</td>\n",
       "    </tr>\n",
       "    <tr>\n",
       "      <th>std</th>\n",
       "      <td>2927.044957</td>\n",
       "      <td>2.757166</td>\n",
       "      <td>6.236859</td>\n",
       "    </tr>\n",
       "    <tr>\n",
       "      <th>min</th>\n",
       "      <td>10000.000000</td>\n",
       "      <td>0.220000</td>\n",
       "      <td>0.000000</td>\n",
       "    </tr>\n",
       "    <tr>\n",
       "      <th>25%</th>\n",
       "      <td>12452.500000</td>\n",
       "      <td>3.917500</td>\n",
       "      <td>5.000000</td>\n",
       "    </tr>\n",
       "    <tr>\n",
       "      <th>50%</th>\n",
       "      <td>15184.000000</td>\n",
       "      <td>6.000000</td>\n",
       "      <td>8.000000</td>\n",
       "    </tr>\n",
       "    <tr>\n",
       "      <th>75%</th>\n",
       "      <td>17481.250000</td>\n",
       "      <td>8.110000</td>\n",
       "      <td>15.000000</td>\n",
       "    </tr>\n",
       "    <tr>\n",
       "      <th>max</th>\n",
       "      <td>19976.000000</td>\n",
       "      <td>16.980000</td>\n",
       "      <td>45.000000</td>\n",
       "    </tr>\n",
       "  </tbody>\n",
       "</table>\n",
       "</div>"
      ],
      "text/plain": [
       "       subscriber_id  engagement_time  engagement_frequency\n",
       "count    1000.000000      1000.000000           1000.000000\n",
       "mean    15024.803000         6.180030              9.978000\n",
       "std      2927.044957         2.757166              6.236859\n",
       "min     10000.000000         0.220000              0.000000\n",
       "25%     12452.500000         3.917500              5.000000\n",
       "50%     15184.000000         6.000000              8.000000\n",
       "75%     17481.250000         8.110000             15.000000\n",
       "max     19976.000000        16.980000             45.000000"
      ]
     },
     "execution_count": 50,
     "metadata": {},
     "output_type": "execute_result"
    }
   ],
   "source": [
    "df.describe()"
   ]
  },
  {
   "cell_type": "markdown",
   "source": "### 2.3 Data Quality Assessment",
   "metadata": {}
  },
  {
   "cell_type": "code",
   "execution_count": 51,
   "id": "b6ab5864",
   "metadata": {},
   "outputs": [
    {
     "name": "stdout",
     "output_type": "stream",
     "text": [
      "<class 'pandas.core.frame.DataFrame'>\n",
      "RangeIndex: 1000 entries, 0 to 999\n",
      "Data columns (total 5 columns):\n",
      " #   Column                Non-Null Count  Dtype  \n",
      "---  ------                --------------  -----  \n",
      " 0   subscriber_id         1000 non-null   int64  \n",
      " 1   age_group             1000 non-null   object \n",
      " 2   engagement_time       1000 non-null   float64\n",
      " 3   engagement_frequency  1000 non-null   int64  \n",
      " 4   subscription_status   1000 non-null   object \n",
      "dtypes: float64(1), int64(2), object(2)\n",
      "memory usage: 39.2+ KB\n"
     ]
    }
   ],
   "source": [
    "df.info()"
   ]
  },
  {
   "cell_type": "markdown",
   "source": "## 3. 🤖 Machine Learning Pipeline",
   "metadata": {}
  },
  {
   "cell_type": "code",
   "execution_count": 52,
   "id": "9d29d597",
   "metadata": {},
   "outputs": [
    {
     "name": "stdout",
     "output_type": "stream",
     "text": [
      "[[99 10]\n",
      " [11 80]]\n",
      "              precision    recall  f1-score   support\n",
      "\n",
      "           0       0.90      0.91      0.90       109\n",
      "           1       0.89      0.88      0.88        91\n",
      "\n",
      "    accuracy                           0.90       200\n",
      "   macro avg       0.89      0.89      0.89       200\n",
      "weighted avg       0.89      0.90      0.89       200\n",
      "\n",
      "ROC AUC Score: 0.9704\n"
     ]
    }
   ],
   "source": [
    "# Step 1: Define features and label\n",
    "X = df.drop(columns=['subscriber_id', 'subscription_status'])\n",
    "y = df['subscription_status'].map({'subscribed': 0, 'churned': 1})  # Binary encode\n",
    "\n",
    "# Step 2: Train/test split\n",
    "X_train, X_test, y_train, y_test = train_test_split(X, y, test_size=0.2, random_state=42)\n",
    "\n",
    "# Step 3: Define preprocessing\n",
    "categorical_features = ['age_group']\n",
    "numerical_features = ['engagement_time', 'engagement_frequency']\n",
    "\n",
    "preprocessor = ColumnTransformer(transformers=[\n",
    "    ('cat', OneHotEncoder(drop='first'), categorical_features),\n",
    "    ('num', StandardScaler(), numerical_features)\n",
    "])\n",
    "\n",
    "# Step 4: Create and train pipeline\n",
    "model = Pipeline(steps=[\n",
    "    ('preprocessor', preprocessor),\n",
    "    ('classifier', RandomForestClassifier(n_estimators=100, max_depth=10))\n",
    "])\n",
    "\n",
    "model.fit(X_train, y_train)\n",
    "\n",
    "# Step 5: Evaluate\n",
    "y_pred = model.predict(X_test)\n",
    "y_prob = model.predict_proba(X_test)[:, 1]\n",
    "\n",
    "print(confusion_matrix(y_test, y_pred))\n",
    "print(classification_report(y_test, y_pred))\n",
    "print(f'ROC AUC Score: {roc_auc_score(y_test, y_prob):.4f}')"
   ]
  },
  {
   "cell_type": "markdown",
   "source": "## 4. 📊 Model Performance Visualization",
   "metadata": {}
  },
  {
   "cell_type": "markdown",
   "source": "### 4.1 Confusion Matrix",
   "metadata": {}
  },
  {
   "cell_type": "code",
   "execution_count": 53,
   "id": "363f038e",
   "metadata": {},
   "outputs": [
    {
     "data": {
      "image/png": "[encoded data removed]",
      "text/plain": [
       "<Figure size 600x400 with 2 Axes>"
      ]
     },
     "metadata": {},
     "output_type": "display_data"
    }
   ],
   "source": [
    "cm = confusion_matrix(y_test, y_pred)\n",
    "plt.figure(figsize=(6, 4))\n",
    "sns.heatmap(cm, annot=True, fmt='d', cmap='Blues',\n",
    "            xticklabels=['Subscribed', 'Churned'],\n",
    "            yticklabels=['Subscribed', 'Churned'])\n",
    "plt.xlabel('Predicted')\n",
    "plt.ylabel('Actual')\n",
    "plt.title('Confusion Matrix')\n",
    "plt.show()"
   ]
  },
  {
   "cell_type": "markdown",
   "source": "### 4.2 ROC Curve Analysis",
   "metadata": {}
  },
  {
   "cell_type": "code",
   "id": "99f30024",
   "metadata": {},
   "outputs": [],
   "source": "# Calculate ROC curve and AUC\nfpr, tpr, thresholds = roc_curve(y_test, y_prob)\nroc_auc = auc(fpr, tpr)\n\n# Plot ROC curve\nplt.figure(figsize=(8, 6))\nplt.plot(fpr, tpr, color='#1f77b4', lw=3, label=f'ROC Curve (AUC = {roc_auc:.3f})')\nplt.plot([0, 1], [0, 1], color='gray', lw=2, linestyle='--', label='Random Guess')\n\nplt.xlim([-0.02, 1.02])\nplt.ylim([-0.02, 1.02])\nplt.xlabel('False Positive Rate', fontsize=12)\nplt.ylabel('True Positive Rate', fontsize=12)\nplt.title('ROC Curve - Random Forest Model', fontsize=14, fontweight='bold')\nplt.legend(loc='lower right', fontsize=12)\nplt.grid(True, linestyle='--', linewidth=0.7, alpha=0.7)\nplt.tight_layout()\nplt.show()"
  },
  {
   "cell_type": "markdown",
   "source": "### 4.3 Classification Report",
   "metadata": {}
  },
  {
   "cell_type": "code",
   "execution_count": 55,
   "id": "28a02802",
   "metadata": {},
   "outputs": [
    {
     "name": "stdout",
     "output_type": "stream",
     "text": [
      "              precision    recall  f1-score  support\n",
      "0              0.900000  0.908257  0.904110  109.000\n",
      "1              0.888889  0.879121  0.883978   91.000\n",
      "accuracy       0.895000  0.895000  0.895000    0.895\n",
      "macro avg      0.894444  0.893689  0.894044  200.000\n",
      "weighted avg   0.894944  0.895000  0.894950  200.000\n"
     ]
    }
   ],
   "source": [
    "report_dict = classification_report(y_test, y_pred, output_dict=True)\n",
    "report_df = pd.DataFrame(report_dict).transpose()\n",
    "print(report_df)"
   ]
  },
  {
   "cell_type": "code",
   "execution_count": 56,
   "id": "20eb13df",
   "metadata": {},
   "outputs": [
    {
     "data": {
      "image/png": "[encoded data removed]",
      "text/plain": [
       "<Figure size 800x400 with 2 Axes>"
      ]
     },
     "metadata": {},
     "output_type": "display_data"
    }
   ],
   "source": [
    "plt.figure(figsize=(8, 4))\n",
    "sns.heatmap(report_df.iloc[:-1, :-1], annot=True, cmap='YlGnBu')\n",
    "plt.title('Classification Report')\n",
    "plt.show()\n"
   ]
  },
  {
   "cell_type": "markdown",
   "source": "## 5. 🏆 Model Comparison",
   "metadata": {}
  },
  {
   "cell_type": "code",
   "execution_count": 57,
   "id": "0a56acc4",
   "metadata": {},
   "outputs": [],
   "source": [
    "models = {\n",
    "    'Logistic Regression': LogisticRegression(max_iter=1000),\n",
    "    'Random Forest': RandomForestClassifier(random_state=42),\n",
    "    'SVM': SVC(probability=True)\n",
    "}\n"
   ]
  },
  {
   "cell_type": "code",
   "execution_count": 58,
   "id": "347ed198",
   "metadata": {},
   "outputs": [
    {
     "name": "stdout",
     "output_type": "stream",
     "text": [
      "\n",
      "📊 Model: Logistic Regression\n",
      "[[101   8]\n",
      " [  7  84]]\n",
      "              precision    recall  f1-score   support\n",
      "\n",
      "           0       0.94      0.93      0.93       109\n",
      "           1       0.91      0.92      0.92        91\n",
      "\n",
      "    accuracy                           0.93       200\n",
      "   macro avg       0.92      0.92      0.92       200\n",
      "weighted avg       0.93      0.93      0.93       200\n",
      "\n",
      "ROC AUC Score: 0.9627\n",
      "\n",
      "📊 Model: Random Forest\n",
      "[[98 11]\n",
      " [14 77]]\n",
      "              precision    recall  f1-score   support\n",
      "\n",
      "           0       0.88      0.90      0.89       109\n",
      "           1       0.88      0.85      0.86        91\n",
      "\n",
      "    accuracy                           0.88       200\n",
      "   macro avg       0.88      0.87      0.87       200\n",
      "weighted avg       0.88      0.88      0.87       200\n",
      "\n",
      "ROC AUC Score: 0.9685\n",
      "\n",
      "📊 Model: SVM\n",
      "[[102   7]\n",
      " [  8  83]]\n",
      "              precision    recall  f1-score   support\n",
      "\n",
      "           0       0.93      0.94      0.93       109\n",
      "           1       0.92      0.91      0.92        91\n",
      "\n",
      "    accuracy                           0.93       200\n",
      "   macro avg       0.92      0.92      0.92       200\n",
      "weighted avg       0.92      0.93      0.92       200\n",
      "\n",
      "ROC AUC Score: 0.9803\n"
     ]
    }
   ],
   "source": [
    "for name, classifier in models.items():\n",
    "    print(f'\\n📊 Model: {name}')\n",
    "    \n",
    "    # Create pipeline\n",
    "    pipeline = Pipeline(steps=[\n",
    "        ('preprocessor', preprocessor),\n",
    "        ('classifier', classifier)\n",
    "    ])\n",
    "    \n",
    "    # Fit the model\n",
    "    pipeline.fit(X_train, y_train)\n",
    "    \n",
    "    # Predict\n",
    "    y_pred = pipeline.predict(X_test)\n",
    "    y_prob = pipeline.predict_proba(X_test)[:, 1]  # For ROC AUC\n",
    "\n",
    "    # Evaluate\n",
    "    print(confusion_matrix(y_test, y_pred))\n",
    "    print(classification_report(y_test, y_pred))\n",
    "    print(f'ROC AUC Score: {roc_auc_score(y_test, y_prob):.4f}')\n"
   ]
  },
  {
   "cell_type": "markdown",
   "source": "## 6. 📋 Results Summary\n\n### 🎯 Key Findings\n\n**Model Performance Comparison:**\n- **Best Performer**: SVM with 93% accuracy and 0.98 ROC AUC\n- **Strong Alternative**: Logistic Regression with 93% accuracy and 0.96 ROC AUC  \n- **Ensemble Method**: Random Forest with 90% accuracy and 0.97 ROC AUC\n\n### 🚀 Business Impact\n\nWith a **44.7% churn rate**, these models can help:\n- 🎯 **Identify at-risk customers** before they cancel\n- 💰 **Reduce revenue loss** through targeted retention\n- 📈 **Improve customer lifetime value** with proactive engagement\n\n### 📈 Recommendations\n\n1. **Deploy SVM Model** for production churn prediction\n2. **Early Warning System** for high-risk customers  \n3. **Targeted Campaigns** based on engagement patterns\n4. **Regular Model Updates** with new customer data\n\n---\n\n**Project Status**: ✅ Complete  \n**Model Ready for Production**: ✅ Yes  \n**Business Value**: 🏆 High Impact",
   "metadata": {}
  }
 ],
 "metadata": {
  "kernelspec": {
   "display_name": "base",
   "language": "python",
   "name": "python3"
  },
  "language_info": {
   "codemirror_mode": {
    "name": "ipython",
    "version": 3
   },
   "file_extension": ".py",
   "mimetype": "text/x-python",
   "name": "python",
   "nbconvert_exporter": "python",
   "pygments_lexer": "ipython3",
   "version": "3.12.7"
  }
 },
 "nbformat": 4,
 "nbformat_minor": 5
}